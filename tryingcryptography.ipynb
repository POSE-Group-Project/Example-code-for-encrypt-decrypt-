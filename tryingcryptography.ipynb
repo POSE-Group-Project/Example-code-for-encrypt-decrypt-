{
 "cells": [
  {
   "cell_type": "code",
   "execution_count": 6,
   "id": "10cec79f-1287-4d20-ad9a-7875075a88f1",
   "metadata": {},
   "outputs": [
    {
     "name": "stdout",
     "output_type": "stream",
     "text": [
      "Requirement already satisfied: cryptography in /Users/aylin/Desktop/miniconda3/lib/python3.12/site-packages (43.0.3)\n",
      "Requirement already satisfied: cffi>=1.12 in /Users/aylin/Desktop/miniconda3/lib/python3.12/site-packages (from cryptography) (1.17.1)\n",
      "Requirement already satisfied: pycparser in /Users/aylin/Desktop/miniconda3/lib/python3.12/site-packages (from cffi>=1.12->cryptography) (2.21)\n",
      "Note: you may need to restart the kernel to use updated packages.\n"
     ]
    }
   ],
   "source": [
    "pip install cryptography"
   ]
  },
  {
   "cell_type": "code",
   "execution_count": 7,
   "id": "07dbae24-a04a-4c0d-bb86-6090cee52cb8",
   "metadata": {},
   "outputs": [],
   "source": [
    "from cryptography.hazmat.primitives.kdf.pbkdf2 import PBKDF2HMAC\n",
    "from cryptography.hazmat.primitives import hashes\n",
    "from cryptography.hazmat.primitives.ciphers import Cipher, algorithms, modes\n",
    "from cryptography.hazmat.backends import default_backend\n",
    "from cryptography.hazmat.primitives import padding\n",
    "import os\n",
    "import base64"
   ]
  },
  {
   "cell_type": "code",
   "execution_count": 8,
   "id": "ec95be0d-7e10-4162-8826-c438d3257874",
   "metadata": {},
   "outputs": [],
   "source": [
    "def derive_key(password: str, salt: bytes, iterations: int = 100_000) -> bytes:\n",
    "    kdf = PBKDF2HMAC(\n",
    "        algorithm=hashes.SHA256(),\n",
    "        length=32,  # 256-bit key\n",
    "        salt=salt,\n",
    "        iterations=iterations,\n",
    "        backend=default_backend()\n",
    "    )\n",
    "    return kdf.derive(password.encode())\n"
   ]
  },
  {
   "cell_type": "code",
   "execution_count": 9,
   "id": "e5801aee-e113-423a-bbbb-bf779f9dbccd",
   "metadata": {},
   "outputs": [],
   "source": [
    "def encrypt(plaintext: str, password: str):\n",
    "    salt = os.urandom(16)  # Random salt\n",
    "    iv = os.urandom(16)    # Initialization vector\n",
    "    key = derive_key(password, salt)\n",
    "\n",
    "    # Pad the plaintext to a multiple of 16 bytes\n",
    "    padder = padding.PKCS7(128).padder()\n",
    "    padded_data = padder.update(plaintext.encode()) + padder.finalize()\n",
    "\n",
    "    # AES encryption in CBC mode\n",
    "    cipher = Cipher(algorithms.AES(key), modes.CBC(iv), backend=default_backend())\n",
    "    encryptor = cipher.encryptor()\n",
    "    ciphertext = encryptor.update(padded_data) + encryptor.finalize()\n",
    "\n",
    "    return {\n",
    "        'ciphertext': base64.b64encode(ciphertext).decode(),\n",
    "        'salt': base64.b64encode(salt).decode(),\n",
    "        'iv': base64.b64encode(iv).decode()\n",
    "    }\n"
   ]
  },
  {
   "cell_type": "code",
   "execution_count": 10,
   "id": "5bd0cf52-82ea-4e31-a4c2-65dfc535d470",
   "metadata": {},
   "outputs": [],
   "source": [
    "def decrypt(ciphertext_b64: str, password: str, salt_b64: str, iv_b64: str):\n",
    "    salt = base64.b64decode(salt_b64)\n",
    "    iv = base64.b64decode(iv_b64)\n",
    "    ciphertext = base64.b64decode(ciphertext_b64)\n",
    "\n",
    "    key = derive_key(password, salt)\n",
    "\n",
    "    cipher = Cipher(algorithms.AES(key), modes.CBC(iv), backend=default_backend())\n",
    "    decryptor = cipher.decryptor()\n",
    "    padded_plaintext = decryptor.update(ciphertext) + decryptor.finalize()\n",
    "\n",
    "    # Remove PKCS7 padding\n",
    "    unpadder = padding.PKCS7(128).unpadder()\n",
    "    plaintext = unpadder.update(padded_plaintext) + unpadder.finalize()\n",
    "\n",
    "    return plaintext.decode()\n"
   ]
  },
  {
   "cell_type": "code",
   "execution_count": 11,
   "id": "c326e24f-cfd7-458a-86fd-b58ba1009d32",
   "metadata": {},
   "outputs": [
    {
     "name": "stdout",
     "output_type": "stream",
     "text": [
      "Encrypted:\n",
      "{'ciphertext': 'ta5dOwwFXpd31vvwuM7zjtDkuSnQTUz2CVgTglXI05CmAYe+/juRcEMEfgPiY/Zs+xKrL7mHucGJGmU+sdpfZg==', 'salt': 'T0beeCPVzItsCtFLte7xIg==', 'iv': 'QKHEv0ESibkjTa2rEJ36aQ=='}\n",
      "\n",
      "Decrypted:\n",
      "Dear diary, today I had coffee and thought about the universe.\n"
     ]
    }
   ],
   "source": [
    "# Demo usage\n",
    "password = \"mypassword123\"\n",
    "secret_message = \"Dear diary, today I had coffee and thought about the universe.\"\n",
    "\n",
    "# Encrypt\n",
    "encrypted = encrypt(secret_message, password)\n",
    "print(\"Encrypted:\")\n",
    "print(encrypted)\n",
    "\n",
    "# Decrypt\n",
    "decrypted = decrypt(encrypted['ciphertext'], password, encrypted['salt'], encrypted['iv'])\n",
    "print(\"\\nDecrypted:\")\n",
    "print(decrypted)\n"
   ]
  },
  {
   "cell_type": "code",
   "execution_count": null,
   "id": "a856636f-b284-4117-9b76-b4207c743e8a",
   "metadata": {},
   "outputs": [],
   "source": []
  }
 ],
 "metadata": {
  "kernelspec": {
   "display_name": "Python 3 (ipykernel)",
   "language": "python",
   "name": "python3"
  },
  "language_info": {
   "codemirror_mode": {
    "name": "ipython",
    "version": 3
   },
   "file_extension": ".py",
   "mimetype": "text/x-python",
   "name": "python",
   "nbconvert_exporter": "python",
   "pygments_lexer": "ipython3",
   "version": "3.12.9"
  }
 },
 "nbformat": 4,
 "nbformat_minor": 5
}
